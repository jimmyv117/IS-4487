{
  "cells": [
    {
      "cell_type": "markdown",
      "metadata": {
        "id": "gaExPZte742C"
      },
      "source": [
        "# IS 4487 Lab 7\n",
        "\n",
        "## Outline\n",
        "\n",
        "Begin where you left on in Lab 6 with the *SuperStore Retail Orders* dataset\n",
        "\n",
        "<a href=\"https://colab.research.google.com/github/Stan-Pugsley/is_4487_base/blob/main/Labs/Scripts/lab7_retailer_eda2.ipynb\" target=\"_parent\"><img src=\"https://colab.research.google.com/assets/colab-badge.svg\" alt=\"Open In Colab\"/></a>"
      ]
    },
    {
      "cell_type": "markdown",
      "metadata": {
        "id": "1X7YeybN742K"
      },
      "source": [
        "## Load Libraries\n",
        "\n",
        "➡️ Assignment Tasks\n",
        "- Load any necessary libraries"
      ]
    },
    {
      "cell_type": "code",
      "execution_count": 1,
      "metadata": {
        "vscode": {
          "languageId": "plaintext"
        },
        "id": "iUQb_lj7742N"
      },
      "outputs": [],
      "source": [
        "import pandas as pd\n",
        "import matplotlib as mpl\n",
        "import sklearn as sl\n",
        "import matplotlib.pyplot as plt\n",
        "import seaborn as sns\n",
        ""
      ]
    },
    {
      "cell_type": "markdown",
      "metadata": {
        "id": "RHF8LfaK742P"
      },
      "source": [
        "## Import Data into Dataframe\n",
        "\n",
        "➡️ Assignment Tasks\n",
        "- Import data from the SuperStore retail dataset into a dataframe (in GitHub go to Labs > DataSets)\n",
        "- Describe or profile the dataframe"
      ]
    },
    {
      "cell_type": "code",
      "execution_count": 2,
      "metadata": {
        "vscode": {
          "languageId": "plaintext"
        },
        "colab": {
          "base_uri": "https://localhost:8080/",
          "height": 610
        },
        "id": "b1cbKFGp742R",
        "outputId": "468af416-7637-463c-a7e6-80edda2e4bb6"
      },
      "outputs": [
        {
          "output_type": "stream",
          "name": "stdout",
          "text": [
            "<class 'pandas.core.frame.DataFrame'>\n",
            "RangeIndex: 56045 entries, 0 to 56044\n",
            "Data columns (total 10 columns):\n",
            " #   Column            Non-Null Count  Dtype  \n",
            "---  ------            --------------  -----  \n",
            " 0   order_id          56045 non-null  int64  \n",
            " 1   order_date        56013 non-null  object \n",
            " 2   order_year_month  56013 non-null  object \n",
            " 3   customer_name     56045 non-null  object \n",
            " 4   city              55571 non-null  object \n",
            " 5   state_province    55571 non-null  object \n",
            " 6   quantity          56006 non-null  float64\n",
            " 7   product_name      56045 non-null  object \n",
            " 8   product_line      56045 non-null  object \n",
            " 9   product_price     56045 non-null  float64\n",
            "dtypes: float64(2), int64(1), object(7)\n",
            "memory usage: 4.3+ MB\n"
          ]
        },
        {
          "output_type": "execute_result",
          "data": {
            "text/plain": [
              "           order_id       quantity  product_price\n",
              "count  56045.000000   56006.000000   56045.000000\n",
              "mean   61668.066340       3.348498    6195.540505\n",
              "std     7508.229651     422.646565   35784.727716\n",
              "min    45079.000000       1.000000       2.290000\n",
              "25%    55644.000000       1.000000       7.950000\n",
              "50%    61869.000000       1.000000     475.600000\n",
              "75%    68097.000000       2.000000     914.620000\n",
              "max    74147.000000  100000.000000  235481.000000"
            ],
            "text/html": [
              "\n",
              "  <div id=\"df-6eb865f1-642d-4d57-8910-fcfdae0039f2\" class=\"colab-df-container\">\n",
              "    <div>\n",
              "<style scoped>\n",
              "    .dataframe tbody tr th:only-of-type {\n",
              "        vertical-align: middle;\n",
              "    }\n",
              "\n",
              "    .dataframe tbody tr th {\n",
              "        vertical-align: top;\n",
              "    }\n",
              "\n",
              "    .dataframe thead th {\n",
              "        text-align: right;\n",
              "    }\n",
              "</style>\n",
              "<table border=\"1\" class=\"dataframe\">\n",
              "  <thead>\n",
              "    <tr style=\"text-align: right;\">\n",
              "      <th></th>\n",
              "      <th>order_id</th>\n",
              "      <th>quantity</th>\n",
              "      <th>product_price</th>\n",
              "    </tr>\n",
              "  </thead>\n",
              "  <tbody>\n",
              "    <tr>\n",
              "      <th>count</th>\n",
              "      <td>56045.000000</td>\n",
              "      <td>56006.000000</td>\n",
              "      <td>56045.000000</td>\n",
              "    </tr>\n",
              "    <tr>\n",
              "      <th>mean</th>\n",
              "      <td>61668.066340</td>\n",
              "      <td>3.348498</td>\n",
              "      <td>6195.540505</td>\n",
              "    </tr>\n",
              "    <tr>\n",
              "      <th>std</th>\n",
              "      <td>7508.229651</td>\n",
              "      <td>422.646565</td>\n",
              "      <td>35784.727716</td>\n",
              "    </tr>\n",
              "    <tr>\n",
              "      <th>min</th>\n",
              "      <td>45079.000000</td>\n",
              "      <td>1.000000</td>\n",
              "      <td>2.290000</td>\n",
              "    </tr>\n",
              "    <tr>\n",
              "      <th>25%</th>\n",
              "      <td>55644.000000</td>\n",
              "      <td>1.000000</td>\n",
              "      <td>7.950000</td>\n",
              "    </tr>\n",
              "    <tr>\n",
              "      <th>50%</th>\n",
              "      <td>61869.000000</td>\n",
              "      <td>1.000000</td>\n",
              "      <td>475.600000</td>\n",
              "    </tr>\n",
              "    <tr>\n",
              "      <th>75%</th>\n",
              "      <td>68097.000000</td>\n",
              "      <td>2.000000</td>\n",
              "      <td>914.620000</td>\n",
              "    </tr>\n",
              "    <tr>\n",
              "      <th>max</th>\n",
              "      <td>74147.000000</td>\n",
              "      <td>100000.000000</td>\n",
              "      <td>235481.000000</td>\n",
              "    </tr>\n",
              "  </tbody>\n",
              "</table>\n",
              "</div>\n",
              "    <div class=\"colab-df-buttons\">\n",
              "\n",
              "  <div class=\"colab-df-container\">\n",
              "    <button class=\"colab-df-convert\" onclick=\"convertToInteractive('df-6eb865f1-642d-4d57-8910-fcfdae0039f2')\"\n",
              "            title=\"Convert this dataframe to an interactive table.\"\n",
              "            style=\"display:none;\">\n",
              "\n",
              "  <svg xmlns=\"http://www.w3.org/2000/svg\" height=\"24px\" viewBox=\"0 -960 960 960\">\n",
              "    <path d=\"M120-120v-720h720v720H120Zm60-500h600v-160H180v160Zm220 220h160v-160H400v160Zm0 220h160v-160H400v160ZM180-400h160v-160H180v160Zm440 0h160v-160H620v160ZM180-180h160v-160H180v160Zm440 0h160v-160H620v160Z\"/>\n",
              "  </svg>\n",
              "    </button>\n",
              "\n",
              "  <style>\n",
              "    .colab-df-container {\n",
              "      display:flex;\n",
              "      gap: 12px;\n",
              "    }\n",
              "\n",
              "    .colab-df-convert {\n",
              "      background-color: #E8F0FE;\n",
              "      border: none;\n",
              "      border-radius: 50%;\n",
              "      cursor: pointer;\n",
              "      display: none;\n",
              "      fill: #1967D2;\n",
              "      height: 32px;\n",
              "      padding: 0 0 0 0;\n",
              "      width: 32px;\n",
              "    }\n",
              "\n",
              "    .colab-df-convert:hover {\n",
              "      background-color: #E2EBFA;\n",
              "      box-shadow: 0px 1px 2px rgba(60, 64, 67, 0.3), 0px 1px 3px 1px rgba(60, 64, 67, 0.15);\n",
              "      fill: #174EA6;\n",
              "    }\n",
              "\n",
              "    .colab-df-buttons div {\n",
              "      margin-bottom: 4px;\n",
              "    }\n",
              "\n",
              "    [theme=dark] .colab-df-convert {\n",
              "      background-color: #3B4455;\n",
              "      fill: #D2E3FC;\n",
              "    }\n",
              "\n",
              "    [theme=dark] .colab-df-convert:hover {\n",
              "      background-color: #434B5C;\n",
              "      box-shadow: 0px 1px 3px 1px rgba(0, 0, 0, 0.15);\n",
              "      filter: drop-shadow(0px 1px 2px rgba(0, 0, 0, 0.3));\n",
              "      fill: #FFFFFF;\n",
              "    }\n",
              "  </style>\n",
              "\n",
              "    <script>\n",
              "      const buttonEl =\n",
              "        document.querySelector('#df-6eb865f1-642d-4d57-8910-fcfdae0039f2 button.colab-df-convert');\n",
              "      buttonEl.style.display =\n",
              "        google.colab.kernel.accessAllowed ? 'block' : 'none';\n",
              "\n",
              "      async function convertToInteractive(key) {\n",
              "        const element = document.querySelector('#df-6eb865f1-642d-4d57-8910-fcfdae0039f2');\n",
              "        const dataTable =\n",
              "          await google.colab.kernel.invokeFunction('convertToInteractive',\n",
              "                                                    [key], {});\n",
              "        if (!dataTable) return;\n",
              "\n",
              "        const docLinkHtml = 'Like what you see? Visit the ' +\n",
              "          '<a target=\"_blank\" href=https://colab.research.google.com/notebooks/data_table.ipynb>data table notebook</a>'\n",
              "          + ' to learn more about interactive tables.';\n",
              "        element.innerHTML = '';\n",
              "        dataTable['output_type'] = 'display_data';\n",
              "        await google.colab.output.renderOutput(dataTable, element);\n",
              "        const docLink = document.createElement('div');\n",
              "        docLink.innerHTML = docLinkHtml;\n",
              "        element.appendChild(docLink);\n",
              "      }\n",
              "    </script>\n",
              "  </div>\n",
              "\n",
              "\n",
              "<div id=\"df-b7b05c04-986e-4d48-8adc-5904b81a8662\">\n",
              "  <button class=\"colab-df-quickchart\" onclick=\"quickchart('df-b7b05c04-986e-4d48-8adc-5904b81a8662')\"\n",
              "            title=\"Suggest charts\"\n",
              "            style=\"display:none;\">\n",
              "\n",
              "<svg xmlns=\"http://www.w3.org/2000/svg\" height=\"24px\"viewBox=\"0 0 24 24\"\n",
              "     width=\"24px\">\n",
              "    <g>\n",
              "        <path d=\"M19 3H5c-1.1 0-2 .9-2 2v14c0 1.1.9 2 2 2h14c1.1 0 2-.9 2-2V5c0-1.1-.9-2-2-2zM9 17H7v-7h2v7zm4 0h-2V7h2v10zm4 0h-2v-4h2v4z\"/>\n",
              "    </g>\n",
              "</svg>\n",
              "  </button>\n",
              "\n",
              "<style>\n",
              "  .colab-df-quickchart {\n",
              "      --bg-color: #E8F0FE;\n",
              "      --fill-color: #1967D2;\n",
              "      --hover-bg-color: #E2EBFA;\n",
              "      --hover-fill-color: #174EA6;\n",
              "      --disabled-fill-color: #AAA;\n",
              "      --disabled-bg-color: #DDD;\n",
              "  }\n",
              "\n",
              "  [theme=dark] .colab-df-quickchart {\n",
              "      --bg-color: #3B4455;\n",
              "      --fill-color: #D2E3FC;\n",
              "      --hover-bg-color: #434B5C;\n",
              "      --hover-fill-color: #FFFFFF;\n",
              "      --disabled-bg-color: #3B4455;\n",
              "      --disabled-fill-color: #666;\n",
              "  }\n",
              "\n",
              "  .colab-df-quickchart {\n",
              "    background-color: var(--bg-color);\n",
              "    border: none;\n",
              "    border-radius: 50%;\n",
              "    cursor: pointer;\n",
              "    display: none;\n",
              "    fill: var(--fill-color);\n",
              "    height: 32px;\n",
              "    padding: 0;\n",
              "    width: 32px;\n",
              "  }\n",
              "\n",
              "  .colab-df-quickchart:hover {\n",
              "    background-color: var(--hover-bg-color);\n",
              "    box-shadow: 0 1px 2px rgba(60, 64, 67, 0.3), 0 1px 3px 1px rgba(60, 64, 67, 0.15);\n",
              "    fill: var(--button-hover-fill-color);\n",
              "  }\n",
              "\n",
              "  .colab-df-quickchart-complete:disabled,\n",
              "  .colab-df-quickchart-complete:disabled:hover {\n",
              "    background-color: var(--disabled-bg-color);\n",
              "    fill: var(--disabled-fill-color);\n",
              "    box-shadow: none;\n",
              "  }\n",
              "\n",
              "  .colab-df-spinner {\n",
              "    border: 2px solid var(--fill-color);\n",
              "    border-color: transparent;\n",
              "    border-bottom-color: var(--fill-color);\n",
              "    animation:\n",
              "      spin 1s steps(1) infinite;\n",
              "  }\n",
              "\n",
              "  @keyframes spin {\n",
              "    0% {\n",
              "      border-color: transparent;\n",
              "      border-bottom-color: var(--fill-color);\n",
              "      border-left-color: var(--fill-color);\n",
              "    }\n",
              "    20% {\n",
              "      border-color: transparent;\n",
              "      border-left-color: var(--fill-color);\n",
              "      border-top-color: var(--fill-color);\n",
              "    }\n",
              "    30% {\n",
              "      border-color: transparent;\n",
              "      border-left-color: var(--fill-color);\n",
              "      border-top-color: var(--fill-color);\n",
              "      border-right-color: var(--fill-color);\n",
              "    }\n",
              "    40% {\n",
              "      border-color: transparent;\n",
              "      border-right-color: var(--fill-color);\n",
              "      border-top-color: var(--fill-color);\n",
              "    }\n",
              "    60% {\n",
              "      border-color: transparent;\n",
              "      border-right-color: var(--fill-color);\n",
              "    }\n",
              "    80% {\n",
              "      border-color: transparent;\n",
              "      border-right-color: var(--fill-color);\n",
              "      border-bottom-color: var(--fill-color);\n",
              "    }\n",
              "    90% {\n",
              "      border-color: transparent;\n",
              "      border-bottom-color: var(--fill-color);\n",
              "    }\n",
              "  }\n",
              "</style>\n",
              "\n",
              "  <script>\n",
              "    async function quickchart(key) {\n",
              "      const quickchartButtonEl =\n",
              "        document.querySelector('#' + key + ' button');\n",
              "      quickchartButtonEl.disabled = true;  // To prevent multiple clicks.\n",
              "      quickchartButtonEl.classList.add('colab-df-spinner');\n",
              "      try {\n",
              "        const charts = await google.colab.kernel.invokeFunction(\n",
              "            'suggestCharts', [key], {});\n",
              "      } catch (error) {\n",
              "        console.error('Error during call to suggestCharts:', error);\n",
              "      }\n",
              "      quickchartButtonEl.classList.remove('colab-df-spinner');\n",
              "      quickchartButtonEl.classList.add('colab-df-quickchart-complete');\n",
              "    }\n",
              "    (() => {\n",
              "      let quickchartButtonEl =\n",
              "        document.querySelector('#df-b7b05c04-986e-4d48-8adc-5904b81a8662 button');\n",
              "      quickchartButtonEl.style.display =\n",
              "        google.colab.kernel.accessAllowed ? 'block' : 'none';\n",
              "    })();\n",
              "  </script>\n",
              "</div>\n",
              "\n",
              "    </div>\n",
              "  </div>\n"
            ],
            "application/vnd.google.colaboratory.intrinsic+json": {
              "type": "dataframe",
              "summary": "{\n  \"name\": \"df\",\n  \"rows\": 8,\n  \"fields\": [\n    {\n      \"column\": \"order_id\",\n      \"properties\": {\n        \"dtype\": \"number\",\n        \"std\": 20608.005969435795,\n        \"min\": 7508.229650559143,\n        \"max\": 74147.0,\n        \"num_unique_values\": 8,\n        \"samples\": [\n          61668.066339548575,\n          61869.0,\n          56045.0\n        ],\n        \"semantic_type\": \"\",\n        \"description\": \"\"\n      }\n    },\n    {\n      \"column\": \"quantity\",\n      \"properties\": {\n        \"dtype\": \"number\",\n        \"std\": 37943.160509739755,\n        \"min\": 1.0,\n        \"max\": 100000.0,\n        \"num_unique_values\": 6,\n        \"samples\": [\n          56006.0,\n          3.3484983751740884,\n          100000.0\n        ],\n        \"semantic_type\": \"\",\n        \"description\": \"\"\n      }\n    },\n    {\n      \"column\": \"product_price\",\n      \"properties\": {\n        \"dtype\": \"number\",\n        \"std\": 80969.15026589678,\n        \"min\": 2.29,\n        \"max\": 235481.0,\n        \"num_unique_values\": 8,\n        \"samples\": [\n          6195.540504594523,\n          475.6,\n          56045.0\n        ],\n        \"semantic_type\": \"\",\n        \"description\": \"\"\n      }\n    }\n  ]\n}"
            }
          },
          "metadata": {},
          "execution_count": 2
        }
      ],
      "source": [
        "df = pd.read_csv('/content/superstore_retail_orders (1).csv')\n",
        "\n",
        "df.info()\n",
        "\n",
        "df.describe()"
      ]
    },
    {
      "cell_type": "markdown",
      "metadata": {
        "id": "MshjMm7C742R"
      },
      "source": [
        "## Prepare Data\n",
        "\n",
        "➡️ Assignment Tasks\n",
        "- Convert any numbers into the correct datatype if they are not already numeric\n",
        "- Convert any character variables in to factors if they are appropriate for that datatype\n",
        "- Check for outliers.   Remove any outliers that appear to be mistakes\n",
        "- Remove rows with empty (NULL) values\n",
        "- Identify at least one variable with a missing value that can be imputed.   Fill in those empty values.\n",
        "- Add a \"total_amount\" variable based on the quantity and price"
      ]
    },
    {
      "cell_type": "code",
      "execution_count": 4,
      "metadata": {
        "vscode": {
          "languageId": "plaintext"
        },
        "colab": {
          "base_uri": "https://localhost:8080/"
        },
        "id": "35EOeETh742S",
        "outputId": "95e3c7b1-0a71-41d3-b06b-e21d14d60536"
      },
      "outputs": [
        {
          "output_type": "stream",
          "name": "stdout",
          "text": [
            "<class 'pandas.core.frame.DataFrame'>\n",
            "Int64Index: 55500 entries, 0 to 56044\n",
            "Data columns (total 10 columns):\n",
            " #   Column            Non-Null Count  Dtype   \n",
            "---  ------            --------------  -----   \n",
            " 0   order_id          55500 non-null  int64   \n",
            " 1   order_date        55500 non-null  category\n",
            " 2   order_year_month  55500 non-null  category\n",
            " 3   customer_name     55500 non-null  category\n",
            " 4   city              55500 non-null  category\n",
            " 5   state_province    55500 non-null  category\n",
            " 6   quantity          55500 non-null  float64 \n",
            " 7   product_name      55500 non-null  category\n",
            " 8   product_line      55500 non-null  category\n",
            " 9   product_price     55500 non-null  float64 \n",
            "dtypes: category(7), float64(2), int64(1)\n",
            "memory usage: 3.3 MB\n"
          ]
        }
      ],
      "source": [
        "#data preparation\n",
        "df_clean = df.dropna()\n",
        "categorical_cols = df.select_dtypes(include='object').columns\n",
        "df[categorical_cols] = df[categorical_cols].astype('category')\n",
        "df_clean.info()"
      ]
    },
    {
      "cell_type": "code",
      "execution_count": 5,
      "metadata": {
        "vscode": {
          "languageId": "plaintext"
        },
        "id": "q_aci0FG742V"
      },
      "outputs": [],
      "source": [
        "#outlier check and cleanup\n",
        "from scipy import stats\n",
        "z_scores = stats.zscore(df_clean.select_dtypes(include=['int', 'float']))\n",
        "abs_z_scores = abs(z_scores)\n",
        "filtered_entries = (abs_z_scores < 3).all(axis=1)\n",
        "df_clean = df_clean[filtered_entries]"
      ]
    },
    {
      "cell_type": "code",
      "execution_count": 6,
      "metadata": {
        "vscode": {
          "languageId": "plaintext"
        },
        "colab": {
          "base_uri": "https://localhost:8080/"
        },
        "id": "NWQ803Ld742W",
        "outputId": "c8e8c493-bf4f-40eb-97d6-82bbdf70b821"
      },
      "outputs": [
        {
          "output_type": "stream",
          "name": "stdout",
          "text": [
            "<class 'pandas.core.frame.DataFrame'>\n",
            "Int64Index: 54172 entries, 0 to 56044\n",
            "Data columns (total 11 columns):\n",
            " #   Column            Non-Null Count  Dtype   \n",
            "---  ------            --------------  -----   \n",
            " 0   order_id          54172 non-null  int64   \n",
            " 1   order_date        54172 non-null  category\n",
            " 2   order_year_month  54172 non-null  category\n",
            " 3   customer_name     54172 non-null  category\n",
            " 4   city              54172 non-null  category\n",
            " 5   state_province    54172 non-null  category\n",
            " 6   quantity          54172 non-null  float64 \n",
            " 7   product_name      54172 non-null  category\n",
            " 8   product_line      54172 non-null  category\n",
            " 9   product_price     54172 non-null  float64 \n",
            " 10  total_amount      54172 non-null  float64 \n",
            "dtypes: category(7), float64(3), int64(1)\n",
            "memory usage: 3.7 MB\n",
            "None\n",
            "           order_id      quantity  product_price  total_amount\n",
            "count  54172.000000  54172.000000   54172.000000  5.417200e+04\n",
            "mean   61642.049103      1.516134     614.104032  7.635611e+02\n",
            "std     7518.886689      3.533349     816.680482  1.174143e+04\n",
            "min    45079.000000      1.000000       2.290000  2.290000e+00\n",
            "25%    55623.000000      1.000000       7.950000  1.497000e+01\n",
            "50%    61854.500000      1.000000     475.600000  4.756000e+02\n",
            "75%    68063.000000      2.000000     914.620000  1.000440e+03\n",
            "max    74147.000000    600.000000    3578.270000  2.024994e+06\n"
          ]
        }
      ],
      "source": [
        "#impute values\n",
        "\n",
        "df_clean['total_amount'] = df_clean['quantity'] * df_clean['product_price']\n",
        "df_clean['city'] = df_clean['city'].fillna(\"n/a\")\n",
        "print(df_clean.info())\n",
        "print(df_clean.describe())"
      ]
    },
    {
      "cell_type": "markdown",
      "metadata": {
        "id": "3U5dbZ6y742X"
      },
      "source": [
        "## Prepare Data - Continued\n",
        "\n",
        "➡️ Assignment Tasks\n",
        "- Create a variable called \"complete_customer_info\".   Use \"1\" for True and \"2\" for False.  All customer fields must be valid and not empty before this variable is True.\n",
        "- Create a bar chart showing the count of customers with complete informaiton versus incomplete information"
      ]
    },
    {
      "cell_type": "code",
      "execution_count": 7,
      "metadata": {
        "vscode": {
          "languageId": "plaintext"
        },
        "id": "sS_onBbD742Y"
      },
      "outputs": [],
      "source": [
        "#create variable\n",
        "df['complete_customer_info'] = ((df['order_id'].notnull()) &\n",
        "                                      (df['order_date'].notnull()) &\n",
        "                                      (df['order_year_month'].notnull()) &\n",
        "                                      (df['customer_name'].notnull()) &\n",
        "                                      (df['city'].notnull()) &\n",
        "                                      (df['state_province'].notnull()) &\n",
        "                                      (df['order_id'] != '') &\n",
        "                                      (df['order_date'] != '') &\n",
        "                                      (df['order_year_month'] != '') &\n",
        "                                      (df['customer_name'] != '') &\n",
        "                                      (df['city'] != '') &\n",
        "                                      (df['state_province'] != '')).astype(int)"
      ]
    },
    {
      "cell_type": "code",
      "execution_count": 8,
      "metadata": {
        "vscode": {
          "languageId": "plaintext"
        },
        "colab": {
          "base_uri": "https://localhost:8080/",
          "height": 472
        },
        "id": "qoqUFEwR742Z",
        "outputId": "3a9014a3-ac34-43c0-aaf1-1179816e2fba"
      },
      "outputs": [
        {
          "output_type": "display_data",
          "data": {
            "text/plain": [
              "<Figure size 640x480 with 1 Axes>"
            ],
            "image/png": "[encoded data removed]"
          },
          "metadata": {}
        }
      ],
      "source": [
        "#create chart\n",
        "customer_info_counts = df['complete_customer_info'].value_counts()\n",
        "plt.bar(customer_info_counts.index.map({1: 'Complete', 0: 'Incomplete'}), customer_info_counts.values)\n",
        "plt.xlabel('Customer Information')\n",
        "plt.ylabel('Count')\n",
        "plt.title('Count of Customers with Complete vs. Incomplete Information')\n",
        "plt.show()"
      ]
    },
    {
      "cell_type": "markdown",
      "metadata": {
        "id": "Ncbi1nbt742a"
      },
      "source": [
        "## Prepare Data - Continued\n",
        "\n",
        "➡️ Assignment Tasks\n",
        "- Create seasonal buckets for Winter, Sprint, Summer, Fall\n",
        "- Create a chart to show revenue by season\n",
        "- Create a chart to show revenue by year"
      ]
    },
    {
      "cell_type": "code",
      "execution_count": 11,
      "metadata": {
        "vscode": {
          "languageId": "plaintext"
        },
        "colab": {
          "base_uri": "https://localhost:8080/",
          "height": 472
        },
        "id": "fnOddlDB742b",
        "outputId": "b2e2f735-332d-462e-f318-ac4c6506a025"
      },
      "outputs": [
        {
          "output_type": "display_data",
          "data": {
            "text/plain": [
              "<Figure size 640x480 with 1 Axes>"
            ],
            "image/png": "[encoded data removed]"
          },
          "metadata": {}
        }
      ],
      "source": [
        "#seasonality\n",
        "df_clean['order_date'] = pd.to_datetime(df_clean['order_date'], errors='coerce')\n",
        "df_clean['order_date'] = pd.to_datetime(df_clean['order_date'])\n",
        "def get_season(month):\n",
        "    if month in [12, 1, 2]:\n",
        "        return 'Winter'\n",
        "    elif month in [3, 4, 5]:\n",
        "        return 'Spring'\n",
        "    elif month in [6, 7, 8]:\n",
        "        return 'Summer'\n",
        "    else:\n",
        "        return 'Fall'\n",
        "\n",
        "df_clean['season'] = df_clean['order_date'].dt.month.apply(get_season)\n",
        "revenue_by_season = df_clean.groupby('season')['total_amount'].sum().sort_index()\n",
        "plt.bar(revenue_by_season.index, revenue_by_season.values)\n",
        "plt.xlabel('Season')\n",
        "plt.ylabel('Revenue')\n",
        "plt.title('Revenue by Season')\n",
        "plt.show()\n"
      ]
    },
    {
      "cell_type": "code",
      "execution_count": 16,
      "metadata": {
        "vscode": {
          "languageId": "plaintext"
        },
        "colab": {
          "base_uri": "https://localhost:8080/",
          "height": 472
        },
        "id": "PcG8C8EJ742c",
        "outputId": "2c00ba5d-f76d-40bd-ea94-1d0cb529b264"
      },
      "outputs": [
        {
          "output_type": "display_data",
          "data": {
            "text/plain": [
              "<Figure size 640x480 with 1 Axes>"
            ],
            "image/png": "[encoded data removed]"
          },
          "metadata": {}
        }
      ],
      "source": [
        "#revenue over time\n",
        "df_clean_filtered = df_clean[(df_clean['order_year'] != 1922) & (df_clean['order_year'] != 2029)]\n",
        "\n",
        "revenue_by_year = df_clean_filtered.groupby('order_year')['total_amount'].sum()\n",
        "\n",
        "plt.plot(revenue_by_year.index, revenue_by_year.values, marker='o')\n",
        "plt.xlabel('Year')\n",
        "plt.ylabel('Revenue')\n",
        "plt.title('Revenue by Year (excluding outliers)')\n",
        "plt.xticks(revenue_by_year.index)\n",
        "plt.show()"
      ]
    },
    {
      "cell_type": "markdown",
      "metadata": {
        "id": "cklcusen742d"
      },
      "source": [
        "## Prepare Data - Continued\n",
        "\n",
        "➡️ Assignment Tasks\n",
        "- Create a variable that will group product lines into \"Outdoor\" versus \"Indoor\" products.\n",
        "- Create a plot to show the correlation between outdoor/indoor versus season  "
      ]
    },
    {
      "cell_type": "code",
      "execution_count": 17,
      "metadata": {
        "vscode": {
          "languageId": "plaintext"
        },
        "colab": {
          "base_uri": "https://localhost:8080/",
          "height": 413
        },
        "id": "dgAKKWGh742e",
        "outputId": "b87ef54e-e5e6-496e-c0c7-06dbf094714c"
      },
      "outputs": [
        {
          "output_type": "display_data",
          "data": {
            "text/plain": [
              "<Figure size 1000x600 with 1 Axes>"
            ],
            "image/png": "[encoded data removed]"
          },
          "metadata": {}
        }
      ],
      "source": [
        "#indoor/outdoor variable\n",
        "df_clean['product_category'] = df_clean['product_line'].apply(lambda x: 'Outdoor' if 'outdoor' in x.lower() else 'Indoor')\n",
        "\n",
        "plt.figure(figsize=(10, 6))\n",
        "sns.countplot(x='season', hue='product_category', data=df_clean)\n",
        "plt.xlabel('Season')\n",
        "plt.ylabel('Count')\n",
        "plt.title('Count of Outdoor and Indoor Products by Season')\n",
        "plt.legend(title='Product Category')\n",
        "plt.show()"
      ]
    }
  ],
  "metadata": {
    "language_info": {
      "name": "python"
    },
    "colab": {
      "provenance": []
    },
    "kernelspec": {
      "name": "python3",
      "display_name": "Python 3"
    }
  },
  "nbformat": 4,
  "nbformat_minor": 0
}